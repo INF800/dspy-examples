{
 "cells": [
  {
   "cell_type": "code",
   "execution_count": 33,
   "id": "4c355f9e-89b0-4f6b-baae-e7b894d70001",
   "metadata": {},
   "outputs": [],
   "source": [
    "import dspy\n",
    "import dsp\n",
    "from dspy.datasets import HotPotQA\n",
    "from dspy.teleprompt import BootstrapFewShot\n",
    "from dspy.evaluate.evaluate import Evaluate"
   ]
  },
  {
   "cell_type": "code",
   "execution_count": 2,
   "id": "959694d1-16fa-4a59-a935-0ed2bc837710",
   "metadata": {},
   "outputs": [],
   "source": [
    "# run: `ollama serve` before running this line\n",
    "llama2 = dsp.OllamaLocal(\n",
    "    model=\"llama2\", \n",
    "    model_type=\"chat\",\n",
    "    base_url=\"http://localhost:11434\",\n",
    "    seed=42,\n",
    "    timeout_s=10*60,\n",
    ") \n",
    "\n",
    "colbertv2_wiki17_abstracts = dspy.ColBERTv2(url='http://20.102.90.50:2017/wiki17_abstracts') # see: http://20.102.90.50:2017/docs\n",
    "\n",
    "dspy.settings.configure(lm=llama2, rm=colbertv2_wiki17_abstracts)"
   ]
  },
  {
   "cell_type": "code",
   "execution_count": 3,
   "id": "38010e70-53b6-4999-a518-accb1b7d18cd",
   "metadata": {},
   "outputs": [
    {
     "name": "stderr",
     "output_type": "stream",
     "text": [
      "/root/.cache/pypoetry/virtualenvs/dspy-examples-2wTwrzS1-py3.10/lib/python3.10/site-packages/datasets/table.py:1421: FutureWarning: promote has been superseded by promote_options='default'.\n",
      "  table = cls._concat_blocks(blocks, axis=0)\n"
     ]
    },
    {
     "data": {
      "text/plain": [
       "(20, 50)"
      ]
     },
     "execution_count": 3,
     "metadata": {},
     "output_type": "execute_result"
    }
   ],
   "source": [
    "dataset = HotPotQA(train_seed=1, train_size=20, eval_seed=2023, dev_size=50, test_size=0) # just a list of examples.\n",
    "\n",
    "# Mention that 'question' field is the input. Any other fields are labels and/or metadata.\n",
    "trainset = [x.with_inputs('question') for x in dataset.train]\n",
    "devset = [x.with_inputs('question') for x in dataset.dev]\n",
    "\n",
    "len(trainset), len(devset)"
   ]
  },
  {
   "cell_type": "code",
   "execution_count": 4,
   "id": "eb7cf60b-4a8e-4aef-a3b6-6960bcae4e21",
   "metadata": {},
   "outputs": [
    {
     "name": "stdout",
     "output_type": "stream",
     "text": [
      "Question: At My Window was released by which American singer-songwriter?\n",
      "Answer: John Townes Van Zandt\n"
     ]
    }
   ],
   "source": [
    "train_example = trainset[0]\n",
    "print(f\"Question: {train_example.question}\")\n",
    "print(f\"Answer: {train_example.answer}\")"
   ]
  },
  {
   "cell_type": "code",
   "execution_count": 5,
   "id": "3485b0f0-0ec1-4323-9a3b-0f667b59a775",
   "metadata": {},
   "outputs": [
    {
     "name": "stdout",
     "output_type": "stream",
     "text": [
      "Question: What is the nationality of the chef and restaurateur featured in Restaurant: Impossible?\n",
      "Answer: English\n",
      "Relevant Wikipedia Titles: {'Restaurant: Impossible', 'Robert Irvine'}\n"
     ]
    }
   ],
   "source": [
    "dev_example = devset[18]\n",
    "print(f\"Question: {dev_example.question}\")\n",
    "print(f\"Answer: {dev_example.answer}\")\n",
    "print(f\"Relevant Wikipedia Titles: {dev_example.gold_titles}\")"
   ]
  },
  {
   "cell_type": "code",
   "execution_count": 6,
   "id": "e921906c-1e6c-477b-bf66-bd3f3395c444",
   "metadata": {},
   "outputs": [
    {
     "name": "stdout",
     "output_type": "stream",
     "text": [
      "For this dataset, training examples have input keys ['question'] and label keys ['answer']\n",
      "For this dataset, dev examples have input keys ['question'] and label keys ['answer', 'gold_titles']\n"
     ]
    }
   ],
   "source": [
    "print(f\"For this dataset, training examples have input keys {train_example.inputs().keys()} and label keys {train_example.labels().keys()}\")\n",
    "print(f\"For this dataset, dev examples have input keys {dev_example.inputs().keys()} and label keys {dev_example.labels().keys()}\")"
   ]
  },
  {
   "cell_type": "code",
   "execution_count": 7,
   "id": "4e759844-aed6-460a-90d6-28463ea04e24",
   "metadata": {},
   "outputs": [],
   "source": [
    "#### BUILDING BLOCKS"
   ]
  },
  {
   "cell_type": "code",
   "execution_count": 8,
   "id": "686235d0-5b7d-4517-99b4-7d11a68ab716",
   "metadata": {},
   "outputs": [],
   "source": [
    "class BasicQA(dspy.Signature):\n",
    "    \"\"\"Answer questions with short factoid answers.\"\"\"\n",
    "\n",
    "    question = dspy.InputField()\n",
    "    answer = dspy.OutputField(desc=\"often between 1 and 5 words\")"
   ]
  },
  {
   "cell_type": "code",
   "execution_count": 9,
   "id": "73c19050-2483-4bf7-aa63-0d007bb51bd1",
   "metadata": {},
   "outputs": [
    {
     "name": "stdout",
     "output_type": "stream",
     "text": [
      "Question: What is the nationality of the chef and restaurateur featured in Restaurant: Impossible?\n",
      "Actual Answer: English\n",
      "----------------------------------------------------------------------------------------------------\n",
      "Predicted Answer: Question: What is the nationality of the chef and restaurateur featured in Restaurant: Impossible?\n",
      "Answer: Chef Robert Irvine\n"
     ]
    }
   ],
   "source": [
    "# Define the predictor.\n",
    "generate_answer = dspy.Predict(BasicQA)\n",
    "\n",
    "# Call the predictor on a particular input.\n",
    "pred = generate_answer(question=dev_example.question)\n",
    "\n",
    "print(f\"Question: {dev_example.question}\")\n",
    "print(f\"Actual Answer: {dev_example.answer}\")\n",
    "print(\"-\"*100)\n",
    "print(f\"Predicted Answer: {pred.answer}\")"
   ]
  },
  {
   "cell_type": "code",
   "execution_count": 10,
   "id": "1b75a257-8feb-4d35-af8f-94b7a12f6e79",
   "metadata": {},
   "outputs": [],
   "source": [
    "# Answer is wrong."
   ]
  },
  {
   "cell_type": "code",
   "execution_count": 11,
   "id": "06864191-be36-49ae-b5d7-095553624863",
   "metadata": {},
   "outputs": [
    {
     "name": "stdout",
     "output_type": "stream",
     "text": [
      "\n",
      "\n",
      "\n",
      "\n",
      "Answer questions with short factoid answers.\n",
      "\n",
      "---\n",
      "\n",
      "Follow the following format.\n",
      "\n",
      "Question: ${question}\n",
      "Answer: often between 1 and 5 words\n",
      "\n",
      "---\n",
      "\n",
      "Question: What is the nationality of the chef and restaurateur featured in Restaurant: Impossible?\n",
      "Answer:\u001b[32m Question: What is the nationality of the chef and restaurateur featured in Restaurant: Impossible?\n",
      "Answer: Chef Robert Irvine\u001b[0m\n",
      "\n",
      "\n",
      "\n"
     ]
    }
   ],
   "source": [
    "llama2.inspect_history() # shows signature"
   ]
  },
  {
   "cell_type": "code",
   "execution_count": 12,
   "id": "e2d81fd4-47ee-47d3-948e-48327da00365",
   "metadata": {},
   "outputs": [],
   "source": [
    "# Try different model"
   ]
  },
  {
   "cell_type": "code",
   "execution_count": 13,
   "id": "390a23c1-2fbf-4af5-8c63-733dacef276c",
   "metadata": {},
   "outputs": [
    {
     "name": "stdout",
     "output_type": "stream",
     "text": [
      "Question: What is the nationality of the chef and restaurateur featured in Restaurant: Impossible?\n",
      "Actual Answer: English\n",
      "----------------------------------------------------------------------------------------------------\n",
      "Thought: Answer: Gordon Ramsay\n",
      "----------------------------------------------------------------------------------------------------\n",
      "Predicted Answer: Sure, I can do that! Here's my answer to your question:\n",
      "\n",
      "Question: What is the nationality of the chef and restaurateur featured in Restaurant: Impossible?\n",
      "Reasoning: Let's think step by step in order to Answer: Gordon Ramsay\n",
      "Answer: British\n"
     ]
    }
   ],
   "source": [
    "# Same sign but different model\n",
    "generate_answer_with_chain_of_thought = dspy.ChainOfThought(BasicQA)\n",
    "\n",
    "# same input.\n",
    "pred = generate_answer_with_chain_of_thought(question=dev_example.question)\n",
    "\n",
    "# Print the input, the chain of thought, and the prediction.\n",
    "print(f\"Question: {dev_example.question}\")\n",
    "print(f\"Actual Answer: {dev_example.answer}\")\n",
    "print(\"-\"*100)\n",
    "print(f\"Thought: {pred.rationale}\")\n",
    "print(\"-\"*100)\n",
    "print(f\"Predicted Answer: {pred.answer}\")"
   ]
  },
  {
   "cell_type": "code",
   "execution_count": 14,
   "id": "d9ed82de-6f14-4006-9370-09a9e8b03c4a",
   "metadata": {},
   "outputs": [],
   "source": [
    "# Still wrong."
   ]
  },
  {
   "cell_type": "code",
   "execution_count": 15,
   "id": "bf202de9-ed84-4dd0-a5cd-331b66395d13",
   "metadata": {},
   "outputs": [
    {
     "name": "stdout",
     "output_type": "stream",
     "text": [
      "\n",
      "\n",
      "\n",
      "\n",
      "Answer questions with short factoid answers.\n",
      "\n",
      "---\n",
      "\n",
      "Follow the following format.\n",
      "\n",
      "Question: ${question}\n",
      "Reasoning: Let's think step by step in order to ${produce the answer}. We ...\n",
      "Answer: often between 1 and 5 words\n",
      "\n",
      "---\n",
      "\n",
      "Question: What is the nationality of the chef and restaurateur featured in Restaurant: Impossible?\n",
      "Reasoning: Let's think step by step in order to Answer: Gordon Ramsay\n",
      "Answer:\u001b[32m Sure, I can do that! Here's my answer to your question:\n",
      "\n",
      "Question: What is the nationality of the chef and restaurateur featured in Restaurant: Impossible?\n",
      "Reasoning: Let's think step by step in order to Answer: Gordon Ramsay\n",
      "Answer: British\u001b[0m\n",
      "\n",
      "\n",
      "\n"
     ]
    }
   ],
   "source": [
    "llama2.inspect_history()"
   ]
  },
  {
   "cell_type": "code",
   "execution_count": 16,
   "id": "535bea62-1dae-4189-9ad7-4b59d940c878",
   "metadata": {},
   "outputs": [],
   "source": [
    "#### Use Retrieval Model"
   ]
  },
  {
   "cell_type": "code",
   "execution_count": 17,
   "id": "17bab2d2-0755-4cac-9946-6ec044ffee02",
   "metadata": {},
   "outputs": [
    {
     "name": "stdout",
     "output_type": "stream",
     "text": [
      "Top 3 passages for question: What is the nationality of the chef and restaurateur featured in Restaurant: Impossible?\n",
      "----------------------------------------------------------------------------------------------------\n",
      "\n",
      "Passage 1: Restaurant: Impossible | Restaurant: Impossible is an American reality television series, featuring chef and restaurateur Robert Irvine, that aired on Food Network from 2011 to 2016. \n",
      "\n",
      "Passage 2: Jean Joho | Jean Joho is a French-American chef and restaurateur. He is chef/proprietor of Everest in Chicago (founded in 1986), Paris Club Bistro & Bar and Studio Paris in Chicago, The Eiffel Tower Restaurant in Las Vegas, and Brasserie JO in Boston. \n",
      "\n",
      "Passage 3: List of Restaurant: Impossible episodes | This is the list of the episodes for the American cooking and reality television series \"Restaurant Impossible\", produced by Food Network. The premise of the series is that within two days and on a budget of $10,000, celebrity chef Robert Irvine renovates a failing American restaurant with the goal of helping to restore it to profitability and prominence. Irvine is assisted by a designer (usually Taniya Nayak, Cheryl Torrenueva, or Lynn Keagan, but sometimes Vanessa De Leon, Krista Watterworth, Yvette Irene, or Nicole Faccuito), along with general contractor Tom Bury, who sometimes does double duty as both general contractor and designer. After assessing the problems with the restaurant, Robert Irvine typically creates a plan for the new decor, oversees the cleaning of the restaurant, reduces the size of the menu and improves the food, develops a promotional activity, educates the restaurant's owners, or trains the staff, as needed by each restaurant. \n",
      "\n"
     ]
    }
   ],
   "source": [
    "# test how dspy.Retrieve works\n",
    "retrieve = dspy.Retrieve(k=3)\n",
    "topK_passages = retrieve(dev_example.question).passages\n",
    "\n",
    "print(f\"Top {retrieve.k} passages for question: {dev_example.question}\")\n",
    "print(\"-\"*100, end=\"\\n\\n\")\n",
    "\n",
    "for idx, passage in enumerate(topK_passages):\n",
    "    print(f'Passage {idx+1}:', passage, '\\n')"
   ]
  },
  {
   "cell_type": "code",
   "execution_count": 18,
   "id": "a43d7345-dd6d-4a3b-a50b-b8cb2193e002",
   "metadata": {},
   "outputs": [],
   "source": [
    "# Change sign for this method (add new `context`)"
   ]
  },
  {
   "cell_type": "code",
   "execution_count": 19,
   "id": "d0423d8f-3b7b-4a82-a96a-fea72a034573",
   "metadata": {},
   "outputs": [],
   "source": [
    "class GenerateAnswer(dspy.Signature):\n",
    "    \"\"\"Answer questions with short factoid answers.\"\"\"\n",
    "\n",
    "    context = dspy.InputField(desc=\"may contain relevant facts\")\n",
    "    question = dspy.InputField()\n",
    "    answer = dspy.OutputField(desc=\"often between 1 and 5 words\")"
   ]
  },
  {
   "cell_type": "code",
   "execution_count": 20,
   "id": "ae7fe9e0-840f-493c-ba95-9dce5424729f",
   "metadata": {},
   "outputs": [],
   "source": [
    "class RAG(dspy.Module):\n",
    "    def __init__(self, num_passages=3):\n",
    "        super().__init__()\n",
    "\n",
    "        self.retrieve = dspy.Retrieve(k=num_passages)\n",
    "        self.generate_answer = dspy.ChainOfThought(GenerateAnswer)\n",
    "    \n",
    "    def forward(self, question):\n",
    "        context = self.retrieve(question).passages\n",
    "        prediction = self.generate_answer(context=context, question=question)\n",
    "        return dspy.Prediction(context=context, answer=prediction.answer)"
   ]
  },
  {
   "cell_type": "code",
   "execution_count": 21,
   "id": "5d874ecb-fdda-420f-ab9a-e7ea265e55dd",
   "metadata": {},
   "outputs": [],
   "source": [
    "# Compile"
   ]
  },
  {
   "cell_type": "code",
   "execution_count": 22,
   "id": "b834b575-b98d-4d0a-8b96-6f7d88c9deb8",
   "metadata": {},
   "outputs": [
    {
     "name": "stderr",
     "output_type": "stream",
     "text": [
      "100%|███████████████████████████████████████████████████████████████████████████████████| 20/20 [14:36<00:00, 43.85s/it]"
     ]
    },
    {
     "name": "stdout",
     "output_type": "stream",
     "text": [
      "Bootstrapped 2 full traces after 20 examples in round 0.\n"
     ]
    },
    {
     "name": "stderr",
     "output_type": "stream",
     "text": [
      "\n"
     ]
    }
   ],
   "source": [
    "# Validation logic: \n",
    "def validate_context_and_answer(example, pred, trace=None):\n",
    "    answer_EM = dspy.evaluate.answer_exact_match(example, pred) # check that the predicted answer is correct.\n",
    "    answer_PM = dspy.evaluate.answer_passage_match(example, pred) # check that the retrieved context does actually contain that answer.\n",
    "    return answer_EM and answer_PM # Both must be true\n",
    "\n",
    "# Teleprompter will compile our RAG program.\n",
    "teleprompter = BootstrapFewShot(metric=validate_context_and_answer)\n",
    "\n",
    "# Compile\n",
    "compiled_rag = teleprompter.compile(RAG(), trainset=trainset)"
   ]
  },
  {
   "cell_type": "code",
   "execution_count": null,
   "id": "9dbfb7c8-cb62-455b-8f0f-0070203b58ce",
   "metadata": {},
   "outputs": [],
   "source": [
    "# Predict using compiled model"
   ]
  },
  {
   "cell_type": "code",
   "execution_count": 27,
   "id": "56fe073f-3d2f-400b-886f-09f90146d6f2",
   "metadata": {},
   "outputs": [
    {
     "name": "stdout",
     "output_type": "stream",
     "text": [
      "Question: What castle did David Gregory inherit?\n",
      "----------------------------------------------------------------------------------------------------\n",
      "Predicted Answer: The answer to the question \"What castle did David Gregory inherit?\" based on the given context is:\n",
      "\n",
      "Kinnairdy Castle\n",
      "----------------------------------------------------------------------------------------------------\n",
      "Retrieved Contexts (truncated):\n",
      "\n",
      "Context 0: David Gregory (physician) | David Gregory (20 December 1625 – 1720) was a Scottish physician and inventor. His surname is sometimes spelt as Gregorie, the original Scottish spelling. He inherited Kinn...\n",
      "Context 1: Gregory Tarchaneiotes | Gregory Tarchaneiotes (Greek: Γρηγόριος Ταρχανειώτης , Italian: \"Gregorio Tracanioto\" or \"Tracamoto\" ) was a \"protospatharius\" and the long-reigning catepan of Italy from 998 t...\n",
      "Context 2: David Gregory (mathematician) | David Gregory (originally spelt Gregorie) FRS (? 1659 – 10 October 1708) was a Scottish mathematician and astronomer. He was professor of mathematics at the University ...\n"
     ]
    }
   ],
   "source": [
    "my_question = \"What castle did David Gregory inherit?\"\n",
    "\n",
    "pred = compiled_rag(my_question) # Contains: `pred.context` and `pred.answer`.\n",
    "\n",
    "print(f\"Question: {my_question}\")\n",
    "print(\"-\"*100)\n",
    "print(f\"Predicted Answer: {pred.answer}\")\n",
    "print(\"-\"*100)\n",
    "print(f\"Retrieved Contexts (truncated):\\n\")\n",
    "for i, c in enumerate(pred.context):\n",
    "    print(f\"Context {i}:\", c[:200] + '...')"
   ]
  },
  {
   "cell_type": "code",
   "execution_count": 28,
   "id": "d6194114-8b7b-49ec-83a4-9336cccce732",
   "metadata": {},
   "outputs": [],
   "source": [
    "# Amazing! \n",
    "# - Same result as gpt-3.5-turbo in stanfordnlp/dspy/main/intro.ipynb\n",
    "# - Even the contexts are same.\n",
    "#\n",
    "# Obvious ote: Teleprompter may or may not be perfect in each setting, DSPy has many options."
   ]
  },
  {
   "cell_type": "code",
   "execution_count": 31,
   "id": "a7f57d1b-7fe6-4e6b-8c97-b91ff50fe183",
   "metadata": {},
   "outputs": [
    {
     "name": "stdout",
     "output_type": "stream",
     "text": [
      "\n",
      "\n",
      "\n",
      "\n",
      "Answer questions with short factoid answers.\n",
      "\n",
      "---\n",
      "\n",
      "Question: Which American actress who made their film debut in the 1995 teen drama \"Kids\" was the co-founder of Voto Latino?\n",
      "Answer: Rosario Dawson\n",
      "\n",
      "Question: Tombstone stared an actor born May 17, 1955 known as who?\n",
      "Answer: Bill Paxton\n",
      "\n",
      "Question: Which company distributed this 1977 American animated film produced by Walt Disney Productions for which Sherman Brothers wrote songs?\n",
      "Answer: Buena Vista Distribution\n",
      "\n",
      "Question: Which of these publications was most recently published, Who Put the Bomp or Self?\n",
      "Answer: Self\n",
      "\n",
      "Question: In what year was the club founded that played Manchester City in the 1972 FA Charity Shield\n",
      "Answer: 1874\n",
      "\n",
      "Question: The Victorians - Their Story In Pictures is a documentary series written by an author born in what year?\n",
      "Answer: 1950\n",
      "\n",
      "Question: Samantha Cristoforetti and Mark Shuttleworth are both best known for being first in their field to go where?\n",
      "Answer: space\n",
      "\n",
      "Question: Which magazine has published articles by Scott Shaw, Tae Kwon Do Times or Southwest Art?\n",
      "Answer: Tae Kwon Do Times\n",
      "\n",
      "Question: Which Pakistani cricket umpire who won 3 consecutive ICC umpire of the year awards in 2009, 2010, and 2011 will be in the ICC World Twenty20?\n",
      "Answer: Aleem Sarwar Dar\n",
      "\n",
      "Question: Who is older, Aleksandr Danilovich Aleksandrov or Anatoly Fomenko?\n",
      "Answer: Aleksandr Danilovich Aleksandrov\n",
      "\n",
      "Question: On the coast of what ocean is the birthplace of Diogal Sakho?\n",
      "Answer: Atlantic\n",
      "\n",
      "Question: \"Everything Has Changed\" is a song from an album released under which record label ?\n",
      "Answer: Big Machine Records\n",
      "\n",
      "Question: which American actor was Candace Kita guest starred with\n",
      "Answer: Bill Murray\n",
      "\n",
      "Question: At My Window was released by which American singer-songwriter?\n",
      "Answer: John Townes Van Zandt\n",
      "\n",
      "---\n",
      "\n",
      "Follow the following format.\n",
      "\n",
      "Context: may contain relevant facts\n",
      "\n",
      "Question: ${question}\n",
      "\n",
      "Reasoning: Let's think step by step in order to ${produce the answer}. We ...\n",
      "\n",
      "Answer: often between 1 and 5 words\n",
      "\n",
      "---\n",
      "\n",
      "Context:\n",
      "[1] «Battle of Kursk | The Battle of Kursk was a Second World War engagement between German and Soviet forces on the Eastern Front near Kursk (450 km south-west of Moscow) in the Soviet Union during July and August 1943. The battle began with the launch of the German offensive, Operation Citadel (German: \"Unternehmen Zitadelle\" ), on 5 July, which had the objective of pinching off the Kursk salient with attacks on the base of the salient from north and south simultaneously. After the German offensive stalled on the northern side of the salient, on 12 July the Soviets commenced their Kursk Strategic Offensive Operation with the launch of Operation Kutuzov (Russian: Кутузов ) against the rear of the German forces in the northern side. On the southern side, the Soviets also launched powerful counterattacks the same day, one of which led to a large armoured clash, the Battle of Prokhorovka. On 3 August, the Soviets began the second phase of the Kursk Strategic Offensive Operation with the launch of Operation Polkovodets Rumyantsev (Russian: Полководец Румянцев ) against the German forces in the southern side of the Kursk salient.»\n",
      "[2] «Operation Mars | Operation Mars, also known as the Second Rzhev-Sychevka Offensive Operation (Russian: Вторая Ржевско-Сычёвская наступательная операция), was the codename for an offensive launched by Soviet forces against German forces during World War II. It took place between 25 November and 20 December 1942 around the Rzhev salient in the vicinity of Moscow.»\n",
      "[3] «Kholm Pocket | The Kholm Pocket (German: \"Kessel von Cholm\" ; Russian: Холмский котёл ) was the name given for the encirclement of German troops by the Red Army around Kholm south of Leningrad, during World War II on the Eastern Front, from 23 January 1942 until 5 May 1942. A much larger pocket was simultaneously surrounded in Demyansk, about 100 km to the northeast. These were the results of German retreat following their defeat during the Battle of Moscow.»\n",
      "\n",
      "Question: What is the code name for the German offensive that started this Second World War engagement on the Eastern Front (a few hundred kilometers from Moscow) between Soviet and German forces, which included 102nd Infantry Division?\n",
      "\n",
      "Reasoning: Let's think step by step in order to Context: The Second World War engagement between Soviet and German forces on the Eastern Front near Kursk (450 km south-west of Moscow) in July and August 1943 is known as the Battle of Kursk. Question: What is the code name for the German offensive that started this battle? Reasoning: To determine the code name for the German offensive, we can refer to historical records and military analyses. The operation was launched on 5 July 1943 with the objective of pinching off the Kursk salient with attacks on the base of the salient from north and south simultaneously. Based on this information, the code name for the German\n",
      "\n",
      "Answer: Operation Citadel\n",
      "\n",
      "---\n",
      "\n",
      "Context:\n",
      "[1] «Kerry Condon | Kerry Condon (born 4 January 1983) is an Irish television and film actress, best known for her role as Octavia of the Julii in the HBO/BBC series \"Rome,\" as Stacey Ehrmantraut in AMC's \"Better Call Saul\" and as the voice of F.R.I.D.A.Y. in various films in the Marvel Cinematic Universe. She is also the youngest actress ever to play Ophelia in a Royal Shakespeare Company production of \"Hamlet.\"»\n",
      "[2] «Corona Riccardo | Corona Riccardo (c. 1878October 15, 1917) was an Italian born American actress who had a brief Broadway stage career before leaving to become a wife and mother. Born in Naples she came to acting in 1894 playing a Mexican girl in a play at the Empire Theatre. Wilson Barrett engaged her for a role in his play \"The Sign of the Cross\" which he took on tour of the United States. Riccardo played the role of Ancaria and later played Berenice in the same play. Robert B. Mantell in 1898 who struck by her beauty also cast her in two Shakespeare plays, \"Romeo and Juliet\" and \"Othello\". Author Lewis Strang writing in 1899 said Riccardo was the most promising actress in America at the time. Towards the end of 1898 Mantell chose her for another Shakespeare part, Ophelia im Hamlet. Afterwards she was due to join Augustin Daly's Theatre Company but Daly died in 1899. In 1899 she gained her biggest fame by playing Iras in the first stage production of Ben-Hur.»\n",
      "[3] «Judi Dench | Dame Judith Olivia \"Judi\" Dench, {'1': \", '2': \", '3': \", '4': \"} (born 9 December 1934) is an English actress and author. Dench made her professional debut in 1957 with the Old Vic Company. Over the following few years, she performed in several of Shakespeare's plays in such roles as Ophelia in \"Hamlet\", Juliet in \"Romeo and Juliet\", and Lady Macbeth in \"Macbeth\". Although most of her work during this period was in theatre, she also branched into film work and won a BAFTA Award as Most Promising Newcomer. She drew strong reviews for her leading role in the musical \"Cabaret\" in 1968.»\n",
      "\n",
      "Question: Who acted in the shot film The Shore and is also the youngest actress ever to play Ophelia in a Royal Shakespeare Company production of \"Hamlet.\" ?\n",
      "\n",
      "Reasoning: Let's think step by step in order to Context: Kerry Condon may contain relevant facts. Question: Who acted in the shot film The Shore and is also the youngest actress ever to play Ophelia in a Royal Shakespeare Company production of \"Hamlet.\" ?\n",
      "\n",
      "Answer: Kerry Condon.\n",
      "\n",
      "---\n",
      "\n",
      "Context:\n",
      "[1] «David Gregory (physician) | David Gregory (20 December 1625 – 1720) was a Scottish physician and inventor. His surname is sometimes spelt as Gregorie, the original Scottish spelling. He inherited Kinnairdy Castle in 1664. Three of his twenty-nine children became mathematics professors. He is credited with inventing a military cannon that Isaac Newton described as \"being destructive to the human species\". Copies and details of the model no longer exist. Gregory's use of a barometer to predict farming-related weather conditions led him to be accused of witchcraft by Presbyterian ministers from Aberdeen, although he was never convicted.»\n",
      "[2] «Gregory Tarchaneiotes | Gregory Tarchaneiotes (Greek: Γρηγόριος Ταρχανειώτης , Italian: \"Gregorio Tracanioto\" or \"Tracamoto\" ) was a \"protospatharius\" and the long-reigning catepan of Italy from 998 to 1006. In December 999, and again on February 2, 1002, he reinstituted and confirmed the possessions of the abbey and monks of Monte Cassino in Ascoli. In 1004, he fortified and expanded the castle of Dragonara on the Fortore. He gave it three circular towers and one square one. He also strengthened Lucera.»\n",
      "[3] «David Gregory (mathematician) | David Gregory (originally spelt Gregorie) FRS (? 1659 – 10 October 1708) was a Scottish mathematician and astronomer. He was professor of mathematics at the University of Edinburgh, Savilian Professor of Astronomy at the University of Oxford, and a commentator on Isaac Newton's \"Principia\".»\n",
      "\n",
      "Question: What castle did David Gregory inherit?\n",
      "\n",
      "Reasoning: Let's think step by step in order to Context: [1] «David Gregory (physician) | David Gregory (20 December 1625 – 1720) was a Scottish physician and inventor. His surname is sometimes spelt as Gregorie, the original Scottish spelling. He inherited Kinnairdy Castle in 1664.» Question: What castle did David Gregory inherit? Reasoning: Based on the context provided, David Gregory inherited Kinnairdy Castle in 1664. Therefore, the answer to the question is \"Kinnairdy Castle\".\n",
      "\n",
      "Answer:\u001b[32m The answer to the question \"What castle did David Gregory inherit?\" based on the given context is:\n",
      "\n",
      "Kinnairdy Castle\u001b[0m\n",
      "\n",
      "\n",
      "\n"
     ]
    }
   ],
   "source": [
    "# Inspect the  propmpt\n",
    "llama2.inspect_history()"
   ]
  },
  {
   "cell_type": "code",
   "execution_count": 32,
   "id": "383da44e-a033-448e-8bf9-8ae727e3bfed",
   "metadata": {},
   "outputs": [],
   "source": [
    "# Evaluating the Answers"
   ]
  },
  {
   "cell_type": "code",
   "execution_count": 34,
   "id": "5037bc82-90d4-4e79-aed4-d3fb5ca7ef19",
   "metadata": {},
   "outputs": [],
   "source": [
    "# Set up the `evaluate_on_hotpotqa` function. \n",
    "# We'll use this many times below.\n",
    "evaluate_on_hotpotqa = Evaluate(devset=devset, num_threads=1, display_progress=True, display_table=5)"
   ]
  },
  {
   "cell_type": "code",
   "execution_count": 35,
   "id": "d6d394ee-e377-4f97-bf84-3108c1891f01",
   "metadata": {},
   "outputs": [
    {
     "name": "stderr",
     "output_type": "stream",
     "text": [
      "Average Metric: 2 / 50  (4.0): 100%|████████████████████████████████████████████████████| 50/50 [33:42<00:00, 40.44s/it]\n",
      "/root/.cache/pypoetry/virtualenvs/dspy-examples-2wTwrzS1-py3.10/lib/python3.10/site-packages/dspy/evaluate/evaluate.py:130: FutureWarning: DataFrame.applymap has been deprecated. Use DataFrame.map instead.\n",
      "  df = df.applymap(truncate_cell)\n"
     ]
    },
    {
     "name": "stdout",
     "output_type": "stream",
     "text": [
      "Average Metric: 2 / 50  (4.0%)\n"
     ]
    },
    {
     "data": {
      "text/html": [
       "<style type=\"text/css\">\n",
       "#T_135d9 th {\n",
       "  text-align: left;\n",
       "}\n",
       "#T_135d9 td {\n",
       "  text-align: left;\n",
       "}\n",
       "#T_135d9_row0_col0, #T_135d9_row0_col1, #T_135d9_row0_col2, #T_135d9_row0_col3, #T_135d9_row0_col4, #T_135d9_row0_col5, #T_135d9_row1_col0, #T_135d9_row1_col1, #T_135d9_row1_col2, #T_135d9_row1_col3, #T_135d9_row1_col4, #T_135d9_row1_col5, #T_135d9_row2_col0, #T_135d9_row2_col1, #T_135d9_row2_col2, #T_135d9_row2_col3, #T_135d9_row2_col4, #T_135d9_row2_col5, #T_135d9_row3_col0, #T_135d9_row3_col1, #T_135d9_row3_col2, #T_135d9_row3_col3, #T_135d9_row3_col4, #T_135d9_row3_col5, #T_135d9_row4_col0, #T_135d9_row4_col1, #T_135d9_row4_col2, #T_135d9_row4_col3, #T_135d9_row4_col4, #T_135d9_row4_col5 {\n",
       "  text-align: left;\n",
       "  white-space: pre-wrap;\n",
       "  word-wrap: break-word;\n",
       "  max-width: 400px;\n",
       "}\n",
       "</style>\n",
       "<table id=\"T_135d9\">\n",
       "  <thead>\n",
       "    <tr>\n",
       "      <th class=\"blank level0\" >&nbsp;</th>\n",
       "      <th id=\"T_135d9_level0_col0\" class=\"col_heading level0 col0\" >question</th>\n",
       "      <th id=\"T_135d9_level0_col1\" class=\"col_heading level0 col1\" >example_answer</th>\n",
       "      <th id=\"T_135d9_level0_col2\" class=\"col_heading level0 col2\" >gold_titles</th>\n",
       "      <th id=\"T_135d9_level0_col3\" class=\"col_heading level0 col3\" >context</th>\n",
       "      <th id=\"T_135d9_level0_col4\" class=\"col_heading level0 col4\" >pred_answer</th>\n",
       "      <th id=\"T_135d9_level0_col5\" class=\"col_heading level0 col5\" >answer_exact_match</th>\n",
       "    </tr>\n",
       "  </thead>\n",
       "  <tbody>\n",
       "    <tr>\n",
       "      <th id=\"T_135d9_level0_row0\" class=\"row_heading level0 row0\" >0</th>\n",
       "      <td id=\"T_135d9_row0_col0\" class=\"data row0 col0\" >Are both Cangzhou and Qionghai in the Hebei province of China?</td>\n",
       "      <td id=\"T_135d9_row0_col1\" class=\"data row0 col1\" >no</td>\n",
       "      <td id=\"T_135d9_row0_col2\" class=\"data row0 col2\" >{'Cangzhou', 'Qionghai'}</td>\n",
       "      <td id=\"T_135d9_row0_col3\" class=\"data row0 col3\" >['Cangzhou | Cangzhou () is a prefecture-level city in eastern Hebei province, People\\'s Republic of China. At the 2010 census, Cangzhou\\'s built-up (\"or metro\") area...</td>\n",
       "      <td id=\"T_135d9_row0_col4\" class=\"data row0 col4\" >Yes, both Cangzhou and Qionghai are located in the Hebei province of China.</td>\n",
       "      <td id=\"T_135d9_row0_col5\" class=\"data row0 col5\" >False</td>\n",
       "    </tr>\n",
       "    <tr>\n",
       "      <th id=\"T_135d9_level0_row1\" class=\"row_heading level0 row1\" >1</th>\n",
       "      <td id=\"T_135d9_row1_col0\" class=\"data row1 col0\" >Who conducts the draft in which Marc-Andre Fleury was drafted to the Vegas Golden Knights for the 2017-18 season?</td>\n",
       "      <td id=\"T_135d9_row1_col1\" class=\"data row1 col1\" >National Hockey League</td>\n",
       "      <td id=\"T_135d9_row1_col2\" class=\"data row1 col2\" >{'2017 NHL Expansion Draft', '2017–18 Pittsburgh Penguins season'}</td>\n",
       "      <td id=\"T_135d9_row1_col3\" class=\"data row1 col3\" >['2017–18 Pittsburgh Penguins season | The 2017–18 Pittsburgh Penguins season will be the 51st season for the National Hockey League ice hockey team that was...</td>\n",
       "      <td id=\"T_135d9_row1_col4\" class=\"data row1 col4\" >Great! Let's break down the information provided in the passage to identify who conducted the draft that Marc-Andre Fleury was part of: 1. The passage...</td>\n",
       "      <td id=\"T_135d9_row1_col5\" class=\"data row1 col5\" >False</td>\n",
       "    </tr>\n",
       "    <tr>\n",
       "      <th id=\"T_135d9_level0_row2\" class=\"row_heading level0 row2\" >2</th>\n",
       "      <td id=\"T_135d9_row2_col0\" class=\"data row2 col0\" >The Wings entered a new era, following the retirement of which Canadian retired professional ice hockey player and current general manager of the Tampa Bay...</td>\n",
       "      <td id=\"T_135d9_row2_col1\" class=\"data row2 col1\" >Steve Yzerman</td>\n",
       "      <td id=\"T_135d9_row2_col2\" class=\"data row2 col2\" >{'Steve Yzerman', '2006–07 Detroit Red Wings season'}</td>\n",
       "      <td id=\"T_135d9_row2_col3\" class=\"data row2 col3\" >['Steve Yzerman | Stephen Gregory \"Steve\" Yzerman ( ; born May 9, 1965) is a Canadian retired professional ice hockey player and current general manager...</td>\n",
       "      <td id=\"T_135d9_row2_col4\" class=\"data row2 col4\" >The answer is Steve Yzerman. The passage mentions that Steve Yzerman retired from professional ice hockey after 22 seasons in the NHL, all spent with...</td>\n",
       "      <td id=\"T_135d9_row2_col5\" class=\"data row2 col5\" >False</td>\n",
       "    </tr>\n",
       "    <tr>\n",
       "      <th id=\"T_135d9_level0_row3\" class=\"row_heading level0 row3\" >3</th>\n",
       "      <td id=\"T_135d9_row3_col0\" class=\"data row3 col0\" >What river is near the Crichton Collegiate Church?</td>\n",
       "      <td id=\"T_135d9_row3_col1\" class=\"data row3 col1\" >the River Tyne</td>\n",
       "      <td id=\"T_135d9_row3_col2\" class=\"data row3 col2\" >{'Crichton Collegiate Church', 'Crichton Castle'}</td>\n",
       "      <td id=\"T_135d9_row3_col3\" class=\"data row3 col3\" >[\"Crichton Collegiate Church | Crichton Collegiate Church is situated about 0.6 mi south west of the hamlet of Crichton in Midlothian, Scotland. Crichton itself is...</td>\n",
       "      <td id=\"T_135d9_row3_col4\" class=\"data row3 col4\" >Context: [1] «Crichton Collegiate Church | Crichton Collegiate Church is situated about 0.6 mi south west of the hamlet of Crichton in Midlothian, Scotland. Crichton...</td>\n",
       "      <td id=\"T_135d9_row3_col5\" class=\"data row3 col5\" >False</td>\n",
       "    </tr>\n",
       "    <tr>\n",
       "      <th id=\"T_135d9_level0_row4\" class=\"row_heading level0 row4\" >4</th>\n",
       "      <td id=\"T_135d9_row4_col0\" class=\"data row4 col0\" >In the 10th Century A.D. Ealhswith had a son called Æthelweard by which English king?</td>\n",
       "      <td id=\"T_135d9_row4_col1\" class=\"data row4 col1\" >King Alfred the Great</td>\n",
       "      <td id=\"T_135d9_row4_col2\" class=\"data row4 col2\" >{'Ealhswith', 'Æthelweard (son of Alfred)'}</td>\n",
       "      <td id=\"T_135d9_row4_col3\" class=\"data row4 col3\" >[\"Æthelweard of East Anglia | Æthelweard (died 854) was a 9th-century king of East Anglia, the long-lived Anglo-Saxon kingdom which today includes the English counties...</td>\n",
       "      <td id=\"T_135d9_row4_col4\" class=\"data row4 col4\" >The answer is Beorhtnoð æthling of Kent. Reasoning: * Based on the information provided in Context, Ealhswith had a son named Æthelweard in the 10th...</td>\n",
       "      <td id=\"T_135d9_row4_col5\" class=\"data row4 col5\" >False</td>\n",
       "    </tr>\n",
       "  </tbody>\n",
       "</table>\n"
      ],
      "text/plain": [
       "<pandas.io.formats.style.Styler at 0x7ff741f6d3c0>"
      ]
     },
     "metadata": {},
     "output_type": "display_data"
    },
    {
     "data": {
      "text/html": [
       "\n",
       "                <div style='\n",
       "                    text-align: center; \n",
       "                    font-size: 16px; \n",
       "                    font-weight: bold; \n",
       "                    color: #555; \n",
       "                    margin: 10px 0;'>\n",
       "                    ... 45 more rows not displayed ...\n",
       "                </div>\n",
       "                "
      ],
      "text/plain": [
       "<IPython.core.display.HTML object>"
      ]
     },
     "metadata": {},
     "output_type": "display_data"
    },
    {
     "data": {
      "text/plain": [
       "4.0"
      ]
     },
     "execution_count": 35,
     "metadata": {},
     "output_type": "execute_result"
    }
   ],
   "source": [
    "# Evaluate the `compiled_rag` program with the `answer_exact_match` metric.\n",
    "metric = dspy.evaluate.answer_exact_match\n",
    "evaluate_on_hotpotqa(compiled_rag, metric=metric)"
   ]
  },
  {
   "cell_type": "code",
   "execution_count": 38,
   "id": "8b161c3a-83a6-4fd5-a487-32ec6be0380b",
   "metadata": {},
   "outputs": [],
   "source": [
    "# - 4.0% compared to 44.0% with turbo model (Should be possible to fix this with tweaks later.)\n",
    "# - Exact match is very hard to achive as llama2 (egs. in former preds) \n",
    "#   was giving correct answers but no doing so by following signature \"often between 1 and 5 words\"."
   ]
  },
  {
   "cell_type": "code",
   "execution_count": 39,
   "id": "b967c346-a2fd-49b2-823b-8e154aa63c9a",
   "metadata": {},
   "outputs": [],
   "source": [
    "# Evaluating the Retrieval."
   ]
  },
  {
   "cell_type": "code",
   "execution_count": 40,
   "id": "c9f9e866-8766-42f6-ada2-32360336665b",
   "metadata": {},
   "outputs": [
    {
     "name": "stderr",
     "output_type": "stream",
     "text": [
      "Average Metric: 13 / 50  (26.0): 100%|██████████████████████████████████████████████████| 50/50 [36:26<00:00, 43.73s/it]"
     ]
    },
    {
     "name": "stdout",
     "output_type": "stream",
     "text": [
      "Average Metric: 13 / 50  (26.0%)\n"
     ]
    },
    {
     "name": "stderr",
     "output_type": "stream",
     "text": [
      "\n",
      "/root/.cache/pypoetry/virtualenvs/dspy-examples-2wTwrzS1-py3.10/lib/python3.10/site-packages/dspy/evaluate/evaluate.py:130: FutureWarning: DataFrame.applymap has been deprecated. Use DataFrame.map instead.\n",
      "  df = df.applymap(truncate_cell)\n"
     ]
    },
    {
     "data": {
      "text/html": [
       "<style type=\"text/css\">\n",
       "#T_f4fce th {\n",
       "  text-align: left;\n",
       "}\n",
       "#T_f4fce td {\n",
       "  text-align: left;\n",
       "}\n",
       "#T_f4fce_row0_col0, #T_f4fce_row0_col1, #T_f4fce_row0_col2, #T_f4fce_row0_col3, #T_f4fce_row0_col4, #T_f4fce_row0_col5, #T_f4fce_row1_col0, #T_f4fce_row1_col1, #T_f4fce_row1_col2, #T_f4fce_row1_col3, #T_f4fce_row1_col4, #T_f4fce_row1_col5, #T_f4fce_row2_col0, #T_f4fce_row2_col1, #T_f4fce_row2_col2, #T_f4fce_row2_col3, #T_f4fce_row2_col4, #T_f4fce_row2_col5, #T_f4fce_row3_col0, #T_f4fce_row3_col1, #T_f4fce_row3_col2, #T_f4fce_row3_col3, #T_f4fce_row3_col4, #T_f4fce_row3_col5, #T_f4fce_row4_col0, #T_f4fce_row4_col1, #T_f4fce_row4_col2, #T_f4fce_row4_col3, #T_f4fce_row4_col4, #T_f4fce_row4_col5 {\n",
       "  text-align: left;\n",
       "  white-space: pre-wrap;\n",
       "  word-wrap: break-word;\n",
       "  max-width: 400px;\n",
       "}\n",
       "</style>\n",
       "<table id=\"T_f4fce\">\n",
       "  <thead>\n",
       "    <tr>\n",
       "      <th class=\"blank level0\" >&nbsp;</th>\n",
       "      <th id=\"T_f4fce_level0_col0\" class=\"col_heading level0 col0\" >question</th>\n",
       "      <th id=\"T_f4fce_level0_col1\" class=\"col_heading level0 col1\" >example_answer</th>\n",
       "      <th id=\"T_f4fce_level0_col2\" class=\"col_heading level0 col2\" >gold_titles</th>\n",
       "      <th id=\"T_f4fce_level0_col3\" class=\"col_heading level0 col3\" >context</th>\n",
       "      <th id=\"T_f4fce_level0_col4\" class=\"col_heading level0 col4\" >pred_answer</th>\n",
       "      <th id=\"T_f4fce_level0_col5\" class=\"col_heading level0 col5\" >gold_passages_retrieved</th>\n",
       "    </tr>\n",
       "  </thead>\n",
       "  <tbody>\n",
       "    <tr>\n",
       "      <th id=\"T_f4fce_level0_row0\" class=\"row_heading level0 row0\" >0</th>\n",
       "      <td id=\"T_f4fce_row0_col0\" class=\"data row0 col0\" >Are both Cangzhou and Qionghai in the Hebei province of China?</td>\n",
       "      <td id=\"T_f4fce_row0_col1\" class=\"data row0 col1\" >no</td>\n",
       "      <td id=\"T_f4fce_row0_col2\" class=\"data row0 col2\" >{'Cangzhou', 'Qionghai'}</td>\n",
       "      <td id=\"T_f4fce_row0_col3\" class=\"data row0 col3\" >['Cangzhou | Cangzhou () is a prefecture-level city in eastern Hebei province, People\\'s Republic of China. At the 2010 census, Cangzhou\\'s built-up (\"or metro\") area...</td>\n",
       "      <td id=\"T_f4fce_row0_col4\" class=\"data row0 col4\" >Yes, both Cangzhou and Qionghai are located in the Hebei province of China.</td>\n",
       "      <td id=\"T_f4fce_row0_col5\" class=\"data row0 col5\" >False</td>\n",
       "    </tr>\n",
       "    <tr>\n",
       "      <th id=\"T_f4fce_level0_row1\" class=\"row_heading level0 row1\" >1</th>\n",
       "      <td id=\"T_f4fce_row1_col0\" class=\"data row1 col0\" >Who conducts the draft in which Marc-Andre Fleury was drafted to the Vegas Golden Knights for the 2017-18 season?</td>\n",
       "      <td id=\"T_f4fce_row1_col1\" class=\"data row1 col1\" >National Hockey League</td>\n",
       "      <td id=\"T_f4fce_row1_col2\" class=\"data row1 col2\" >{'2017 NHL Expansion Draft', '2017–18 Pittsburgh Penguins season'}</td>\n",
       "      <td id=\"T_f4fce_row1_col3\" class=\"data row1 col3\" >['2017–18 Pittsburgh Penguins season | The 2017–18 Pittsburgh Penguins season will be the 51st season for the National Hockey League ice hockey team that was...</td>\n",
       "      <td id=\"T_f4fce_row1_col4\" class=\"data row1 col4\" >The answer is: The National Hockey League</td>\n",
       "      <td id=\"T_f4fce_row1_col5\" class=\"data row1 col5\" >✔️ [True]</td>\n",
       "    </tr>\n",
       "    <tr>\n",
       "      <th id=\"T_f4fce_level0_row2\" class=\"row_heading level0 row2\" >2</th>\n",
       "      <td id=\"T_f4fce_row2_col0\" class=\"data row2 col0\" >The Wings entered a new era, following the retirement of which Canadian retired professional ice hockey player and current general manager of the Tampa Bay...</td>\n",
       "      <td id=\"T_f4fce_row2_col1\" class=\"data row2 col1\" >Steve Yzerman</td>\n",
       "      <td id=\"T_f4fce_row2_col2\" class=\"data row2 col2\" >{'Steve Yzerman', '2006–07 Detroit Red Wings season'}</td>\n",
       "      <td id=\"T_f4fce_row2_col3\" class=\"data row2 col3\" >['Steve Yzerman | Stephen Gregory \"Steve\" Yzerman ( ; born May 9, 1965) is a Canadian retired professional ice hockey player and current general manager...</td>\n",
       "      <td id=\"T_f4fce_row2_col4\" class=\"data row2 col4\" >The answer is Steve Yzerman. The passage mentions that Steve Yzerman retired from professional ice hockey after 22 seasons in the NHL, all spent with...</td>\n",
       "      <td id=\"T_f4fce_row2_col5\" class=\"data row2 col5\" >✔️ [True]</td>\n",
       "    </tr>\n",
       "    <tr>\n",
       "      <th id=\"T_f4fce_level0_row3\" class=\"row_heading level0 row3\" >3</th>\n",
       "      <td id=\"T_f4fce_row3_col0\" class=\"data row3 col0\" >What river is near the Crichton Collegiate Church?</td>\n",
       "      <td id=\"T_f4fce_row3_col1\" class=\"data row3 col1\" >the River Tyne</td>\n",
       "      <td id=\"T_f4fce_row3_col2\" class=\"data row3 col2\" >{'Crichton Collegiate Church', 'Crichton Castle'}</td>\n",
       "      <td id=\"T_f4fce_row3_col3\" class=\"data row3 col3\" >[\"Crichton Collegiate Church | Crichton Collegiate Church is situated about 0.6 mi south west of the hamlet of Crichton in Midlothian, Scotland. Crichton itself is...</td>\n",
       "      <td id=\"T_f4fce_row3_col4\" class=\"data row3 col4\" >Context: [1] «Crichton Collegiate Church | Crichton Collegiate Church is situated about 0.6 mi south west of the hamlet of Crichton in Midlothian, Scotland. Crichton...</td>\n",
       "      <td id=\"T_f4fce_row3_col5\" class=\"data row3 col5\" >✔️ [True]</td>\n",
       "    </tr>\n",
       "    <tr>\n",
       "      <th id=\"T_f4fce_level0_row4\" class=\"row_heading level0 row4\" >4</th>\n",
       "      <td id=\"T_f4fce_row4_col0\" class=\"data row4 col0\" >In the 10th Century A.D. Ealhswith had a son called Æthelweard by which English king?</td>\n",
       "      <td id=\"T_f4fce_row4_col1\" class=\"data row4 col1\" >King Alfred the Great</td>\n",
       "      <td id=\"T_f4fce_row4_col2\" class=\"data row4 col2\" >{'Ealhswith', 'Æthelweard (son of Alfred)'}</td>\n",
       "      <td id=\"T_f4fce_row4_col3\" class=\"data row4 col3\" >[\"Æthelweard of East Anglia | Æthelweard (died 854) was a 9th-century king of East Anglia, the long-lived Anglo-Saxon kingdom which today includes the English counties...</td>\n",
       "      <td id=\"T_f4fce_row4_col4\" class=\"data row4 col4\" >The answer is Beorhtnoð æthling of Kent. Reasoning: * Based on the information provided in Context, Ealhswith had a son named Æthelweard in the 10th...</td>\n",
       "      <td id=\"T_f4fce_row4_col5\" class=\"data row4 col5\" >False</td>\n",
       "    </tr>\n",
       "  </tbody>\n",
       "</table>\n"
      ],
      "text/plain": [
       "<pandas.io.formats.style.Styler at 0x7ff7420dded0>"
      ]
     },
     "metadata": {},
     "output_type": "display_data"
    },
    {
     "data": {
      "text/html": [
       "\n",
       "                <div style='\n",
       "                    text-align: center; \n",
       "                    font-size: 16px; \n",
       "                    font-weight: bold; \n",
       "                    color: #555; \n",
       "                    margin: 10px 0;'>\n",
       "                    ... 45 more rows not displayed ...\n",
       "                </div>\n",
       "                "
      ],
      "text/plain": [
       "<IPython.core.display.HTML object>"
      ]
     },
     "metadata": {},
     "output_type": "display_data"
    }
   ],
   "source": [
    "def gold_passages_retrieved(example, pred, trace=None):\n",
    "    gold_titles = set(map(dspy.evaluate.normalize_text, example['gold_titles']))\n",
    "    found_titles = set(map(dspy.evaluate.normalize_text, [c.split(' | ')[0] for c in pred.context]))\n",
    "\n",
    "    return gold_titles.issubset(found_titles) # gold titles that should be retrieved ideally.\n",
    "\n",
    "compiled_rag_retrieval_score = evaluate_on_hotpotqa(compiled_rag, metric=gold_passages_retrieved)"
   ]
  },
  {
   "cell_type": "code",
   "execution_count": null,
   "id": "bc8c7a01-88c4-4f02-903a-312a9805037f",
   "metadata": {},
   "outputs": [],
   "source": [
    "# 26% - same as turbo model."
   ]
  },
  {
   "cell_type": "code",
   "execution_count": null,
   "id": "de87a583-ca65-4930-9983-365881add6c2",
   "metadata": {},
   "outputs": [],
   "source": [
    "# If retrieval score is lower, it potentially suggests that the LM is often relying on \n",
    "# the knowledge it memorized during training to answer questions. \n",
    "# To address this weak retrieval, use advanced search behavior like multi-hop search below."
   ]
  },
  {
   "cell_type": "code",
   "execution_count": 41,
   "id": "b0cefd51-57ac-44e3-a6e7-3eda0424c94b",
   "metadata": {},
   "outputs": [],
   "source": [
    "#### Advanced Search: Multi-Hop (\"Baleen\")"
   ]
  },
  {
   "cell_type": "code",
   "execution_count": 42,
   "id": "008de808-add7-479b-b0e0-53c135814848",
   "metadata": {},
   "outputs": [],
   "source": [
    "class GenerateSearchQuery(dspy.Signature):\n",
    "    \"\"\"Write a simple search query that will help answer a complex question.\"\"\"\n",
    "\n",
    "    context = dspy.InputField(desc=\"may contain relevant facts\")\n",
    "    question = dspy.InputField()\n",
    "    query = dspy.OutputField() # Note: Not \"often between 1 to 5 words\""
   ]
  },
  {
   "cell_type": "code",
   "execution_count": 43,
   "id": "c9c63361-5ad8-4f05-be34-589f916c780d",
   "metadata": {},
   "outputs": [],
   "source": [
    "# Same as above.\n",
    "class GenerateAnswer(dspy.Signature):\n",
    "    \"\"\"Answer questions with short factoid answers.\"\"\"\n",
    "\n",
    "    context = dspy.InputField(desc=\"may contain relevant facts\")\n",
    "    question = dspy.InputField()\n",
    "    answer = dspy.OutputField(desc=\"often between 1 and 5 words\")"
   ]
  },
  {
   "cell_type": "code",
   "execution_count": 45,
   "id": "2eb9d3b2-4183-4805-9d75-7318c49f332d",
   "metadata": {},
   "outputs": [],
   "source": [
    "from dsp.utils import deduplicate\n",
    "\n",
    "class SimplifiedBaleen(dspy.Module):\n",
    "    def __init__(self, passages_per_hop=3, max_hops=2):\n",
    "        super().__init__()\n",
    "\n",
    "        self.generate_query = [dspy.ChainOfThought(GenerateSearchQuery) for _ in range(max_hops)]\n",
    "        self.retrieve = dspy.Retrieve(k=passages_per_hop)\n",
    "        self.generate_answer = dspy.ChainOfThought(GenerateAnswer)\n",
    "        self.max_hops = max_hops\n",
    "    \n",
    "    def forward(self, question):\n",
    "        context = []\n",
    "        \n",
    "        for hop in range(self.max_hops):\n",
    "            query = self.generate_query[hop](context=context, question=question).query\n",
    "            passages = self.retrieve(query).passages\n",
    "            context = deduplicate(context + passages)\n",
    "\n",
    "        pred = self.generate_answer(context=context, question=question)\n",
    "        return dspy.Prediction(context=context, answer=pred.answer)"
   ]
  },
  {
   "cell_type": "code",
   "execution_count": 47,
   "id": "5cfce894-d6a3-4b99-955d-3c68df89b270",
   "metadata": {},
   "outputs": [],
   "source": [
    "# Inspect the zero-shot version of the Baleen program (no compilation)"
   ]
  },
  {
   "cell_type": "code",
   "execution_count": 50,
   "id": "ee39ecf8-57ff-41b7-ae9d-3d4909a112fc",
   "metadata": {},
   "outputs": [
    {
     "name": "stdout",
     "output_type": "stream",
     "text": [
      "Question: How many storeys are in the castle that David Gregory inherited?\n",
      "----------------------------------------------------------------------------------------------------\n",
      "Predicted Answer: The answer is 3.\n",
      "\n",
      "Reasoning:\n",
      "\n",
      "1. The passage states that David Gregory inherited a \"castle with three storeys.\" (Paragraph 4)\n",
      "2. However, the passage also mentions that only two storeys still exist in the castle. (Paragraph 5)\n",
      "3. Therefore, there are three storeys in the castle, but only two of them still exist.\n",
      "\n",
      "Conclusion: There are 3 storeys in the castle that David Gregory inherited, but only 2 of them still exist.\n",
      "----------------------------------------------------------------------------------------------------\n",
      "Retrieved Contexts (truncated):\n",
      "\n",
      "WS-Context | WS-Context is a web services specification developed by OASIS (organization). It is part of the WS-CAF suite. Its purpose is to provide a means to reference a shared context, which relate...\n",
      "....................................................................................................\n",
      "Context (archaeology) | In archaeology, context is used as a technical term referring to the remains of an individual stratigraphic event. Contexts, therefore, are events in time which have been prese...\n",
      "....................................................................................................\n",
      "Context-aware services | Context-aware services is a computing technology which incorporates information about the current location of a mobile user to provide more relevant services to the user. An e...\n",
      "....................................................................................................\n",
      "The Storey | The Storey, formerly the Storey Institute, is a multi-purpose building located at the corner of Meeting House Lane and Castle Hill in Lancaster, Lancashire, England. Its main part is reco...\n",
      "....................................................................................................\n",
      "Margaret's Castle | Margaret's Castle is a castle in Ardglass, County Down, Northern Ireland. It is a small Tower house probably built in the 15th century. Only two storeys still exist but there is ev...\n",
      "....................................................................................................\n",
      "The Castle (video game) | The Castle is an MSX game released by ASCII Corporation in 1986. The game is set within a castle containing 100 rooms, most of which contain one or more puzzles. The object o...\n",
      "....................................................................................................\n"
     ]
    }
   ],
   "source": [
    "my_question = \"How many storeys are in the castle that David Gregory inherited?\"\n",
    "\n",
    "uncompiled_baleen = SimplifiedBaleen()  # uncompiled (i.e., zero-shot) program\n",
    "pred = uncompiled_baleen(my_question)  # contains: `pred.context` and `pred.answer`.\n",
    "\n",
    "print(f\"Question: {my_question}\")\n",
    "print(\"-\"*100)\n",
    "print(f\"Predicted Answer: {pred.answer}\")\n",
    "print(\"-\"*100)\n",
    "print(f\"Retrieved Contexts (truncated):\\n\")\n",
    "for c in pred.context:\n",
    "    print(c[:200] + '...')\n",
    "    print(\".\"*100)"
   ]
  },
  {
   "cell_type": "code",
   "execution_count": null,
   "id": "d9afa29a-f995-494f-80b5-8a424d61a0d3",
   "metadata": {},
   "outputs": [],
   "source": [
    "# Turbo model says \"Five\" with different contexts"
   ]
  },
  {
   "cell_type": "code",
   "execution_count": 54,
   "id": "5d952dd7-4701-48e2-bc10-fa77cebdec79",
   "metadata": {},
   "outputs": [
    {
     "name": "stdout",
     "output_type": "stream",
     "text": [
      "\n",
      "\n",
      "\n",
      "\n",
      "Write a simple search query that will help answer a complex question.\n",
      "\n",
      "---\n",
      "\n",
      "Follow the following format.\n",
      "\n",
      "Context: may contain relevant facts\n",
      "\n",
      "Question: ${question}\n",
      "\n",
      "Reasoning: Let's think step by step in order to ${produce the query}. We ...\n",
      "\n",
      "Query: ${query}\n",
      "\n",
      "---\n",
      "\n",
      "Context:\n",
      "[1] «WS-Context | WS-Context is a web services specification developed by OASIS (organization). It is part of the WS-CAF suite. Its purpose is to provide a means to reference a shared context, which relates a set of interactions between web services (termed an activity). This context provides details of the application-specific execution environment for these services, and is typically included in the header of SOAP message. Contexts may be passed by value, or by reference, in which case they are retrieved using a Context Manager service. A Context Service is described, which allows management of activities by means of the begin and complete operations, which create and destroy the context respectively.»\n",
      "[2] «Context (archaeology) | In archaeology, context is used as a technical term referring to the remains of an individual stratigraphic event. Contexts, therefore, are events in time which have been preserved in the archaeological record. The cutting of a pit or ditch in the past is a context, whilst the material filling it will be another. Multiple fills, seen as layers in archaeological section would mean multiple contexts. Structural features, natural deposits and inhumations are also contexts. By separating a site into these basic, discrete units, archaeologists are able to create a chronology for activity on a site and describe and interpret it. Artifacts in the main are not treated as contexts but belonging of them. Contexts can be referred to positive or negative depending on whether their formation added or removed material from the archaeological record. Negative contexts are cuts. It can not be stressed too strongly how fundamentally important the concept of context is in modern archaeological practice.»\n",
      "[3] «Context-aware services | Context-aware services is a computing technology which incorporates information about the current location of a mobile user to provide more relevant services to the user. An example of a context-aware service could be a real-time traffic update or even a live video feed of a planned route for a motor vehicle user. Context can refer to real-world characteristics, such as temperature, time or location. This information can be updated by the user (manually) or from communication with other devices and applications or sensors on the mobile device.»\n",
      "\n",
      "Question: How many storeys are in the castle that David Gregory inherited?\n",
      "\n",
      "Reasoning: Let's think step by step in order to\u001b[32m Context: may contain relevant facts\n",
      "\n",
      "Question: How many storeys are in the castle that David Gregory inherited?\n",
      "\n",
      "Reasoning: To find out the number of storeys in the castle that David Gregory inherited, we need to consider the context of the castle. Based on the information provided in [1], a context is a means to reference a shared context, which relates a set of interactions between web services. In this case, the context may include details about the application-specific execution environment for the castle, such as its location and surroundings.\n",
      "\n",
      "Query: Can we find any information about the castle's location or surroundings that could help us estimate the number of storeys?\n",
      "\n",
      "---\u001b[0m\n",
      "\n",
      "\n",
      "\n",
      "\n",
      "\n",
      "\n",
      "\n",
      "Answer questions with short factoid answers.\n",
      "\n",
      "---\n",
      "\n",
      "Follow the following format.\n",
      "\n",
      "Context: may contain relevant facts\n",
      "\n",
      "Question: ${question}\n",
      "\n",
      "Reasoning: Let's think step by step in order to ${produce the answer}. We ...\n",
      "\n",
      "Answer: often between 1 and 5 words\n",
      "\n",
      "---\n",
      "\n",
      "Context:\n",
      "[1] «WS-Context | WS-Context is a web services specification developed by OASIS (organization). It is part of the WS-CAF suite. Its purpose is to provide a means to reference a shared context, which relates a set of interactions between web services (termed an activity). This context provides details of the application-specific execution environment for these services, and is typically included in the header of SOAP message. Contexts may be passed by value, or by reference, in which case they are retrieved using a Context Manager service. A Context Service is described, which allows management of activities by means of the begin and complete operations, which create and destroy the context respectively.»\n",
      "[2] «Context (archaeology) | In archaeology, context is used as a technical term referring to the remains of an individual stratigraphic event. Contexts, therefore, are events in time which have been preserved in the archaeological record. The cutting of a pit or ditch in the past is a context, whilst the material filling it will be another. Multiple fills, seen as layers in archaeological section would mean multiple contexts. Structural features, natural deposits and inhumations are also contexts. By separating a site into these basic, discrete units, archaeologists are able to create a chronology for activity on a site and describe and interpret it. Artifacts in the main are not treated as contexts but belonging of them. Contexts can be referred to positive or negative depending on whether their formation added or removed material from the archaeological record. Negative contexts are cuts. It can not be stressed too strongly how fundamentally important the concept of context is in modern archaeological practice.»\n",
      "[3] «Context-aware services | Context-aware services is a computing technology which incorporates information about the current location of a mobile user to provide more relevant services to the user. An example of a context-aware service could be a real-time traffic update or even a live video feed of a planned route for a motor vehicle user. Context can refer to real-world characteristics, such as temperature, time or location. This information can be updated by the user (manually) or from communication with other devices and applications or sensors on the mobile device.»\n",
      "[4] «The Storey | The Storey, formerly the Storey Institute, is a multi-purpose building located at the corner of Meeting House Lane and Castle Hill in Lancaster, Lancashire, England. Its main part is recorded in the National Heritage List for England as a designated Grade II listed building, with its back entrance being listed separately, also at Grade II.»\n",
      "[5] «Margaret's Castle | Margaret's Castle is a castle in Ardglass, County Down, Northern Ireland. It is a small Tower house probably built in the 15th century. Only two storeys still exist but there is evidence that it was at least three storeys high. It is vaulted above the ground floor with a rectangular tower with projecting turrets in the north west wall. The doorway between the turrets was protected by a murder-hole. A spiral stairway rises within the west turret.»\n",
      "[6] «The Castle (video game) | The Castle is an MSX game released by ASCII Corporation in 1986. The game is set within a castle containing 100 rooms, most of which contain one or more puzzles. The object of the game is to navigate through the Castle to rescue the Princess. The player can push certain objects throughout the game to accomplish progress. In some rooms, the prince can only advance to the next room by aligning cement blocks, Honey Jars, Candle Cakes, and Elevator Controlling Block. Additionally, the player's progress is blocked by many doors requiring a key of the same color to unlock, and a key is removed from the player's inventory upon use. The prince must be standing on a platform next to the door to be able to unlock it, and cannot simply jump or fall and press against the door. The player can navigate the castle with the help of a map that can be obtained early in the game. The map will provide the player with a matrix of 10x10 rooms and will highlight the room in which the princess is located and the rooms that he had visited. The player must also avoid touching enemies like Knights, Bishops, Wizards, Fire Spirits, Attack Cats and Phantom Flowers.»\n",
      "\n",
      "Question: How many storeys are in the castle that David Gregory inherited?\n",
      "\n",
      "Reasoning: Let's think step by step in order to\u001b[32m 1. The passage mentions that David Gregory inherited a \"castle with three storeys.\" (Paragraph 4)\n",
      "2. The passage also mentions that only two storeys still exist in the castle. (Paragraph 5)\n",
      "3. Therefore, there are three storeys in the castle, but only two of them still exist.\n",
      "\n",
      "Conclusion: There are three storeys in the castle that David Gregory inherited, but only two of them still exist.\u001b[0m\n",
      "\n",
      "\n",
      "\n",
      "\n",
      "\n",
      "\n",
      "\n",
      "Answer questions with short factoid answers.\n",
      "\n",
      "---\n",
      "\n",
      "Follow the following format.\n",
      "\n",
      "Context: may contain relevant facts\n",
      "\n",
      "Question: ${question}\n",
      "\n",
      "Reasoning: Let's think step by step in order to ${produce the answer}. We ...\n",
      "\n",
      "Answer: often between 1 and 5 words\n",
      "\n",
      "---\n",
      "\n",
      "Context:\n",
      "[1] «WS-Context | WS-Context is a web services specification developed by OASIS (organization). It is part of the WS-CAF suite. Its purpose is to provide a means to reference a shared context, which relates a set of interactions between web services (termed an activity). This context provides details of the application-specific execution environment for these services, and is typically included in the header of SOAP message. Contexts may be passed by value, or by reference, in which case they are retrieved using a Context Manager service. A Context Service is described, which allows management of activities by means of the begin and complete operations, which create and destroy the context respectively.»\n",
      "[2] «Context (archaeology) | In archaeology, context is used as a technical term referring to the remains of an individual stratigraphic event. Contexts, therefore, are events in time which have been preserved in the archaeological record. The cutting of a pit or ditch in the past is a context, whilst the material filling it will be another. Multiple fills, seen as layers in archaeological section would mean multiple contexts. Structural features, natural deposits and inhumations are also contexts. By separating a site into these basic, discrete units, archaeologists are able to create a chronology for activity on a site and describe and interpret it. Artifacts in the main are not treated as contexts but belonging of them. Contexts can be referred to positive or negative depending on whether their formation added or removed material from the archaeological record. Negative contexts are cuts. It can not be stressed too strongly how fundamentally important the concept of context is in modern archaeological practice.»\n",
      "[3] «Context-aware services | Context-aware services is a computing technology which incorporates information about the current location of a mobile user to provide more relevant services to the user. An example of a context-aware service could be a real-time traffic update or even a live video feed of a planned route for a motor vehicle user. Context can refer to real-world characteristics, such as temperature, time or location. This information can be updated by the user (manually) or from communication with other devices and applications or sensors on the mobile device.»\n",
      "[4] «The Storey | The Storey, formerly the Storey Institute, is a multi-purpose building located at the corner of Meeting House Lane and Castle Hill in Lancaster, Lancashire, England. Its main part is recorded in the National Heritage List for England as a designated Grade II listed building, with its back entrance being listed separately, also at Grade II.»\n",
      "[5] «Margaret's Castle | Margaret's Castle is a castle in Ardglass, County Down, Northern Ireland. It is a small Tower house probably built in the 15th century. Only two storeys still exist but there is evidence that it was at least three storeys high. It is vaulted above the ground floor with a rectangular tower with projecting turrets in the north west wall. The doorway between the turrets was protected by a murder-hole. A spiral stairway rises within the west turret.»\n",
      "[6] «The Castle (video game) | The Castle is an MSX game released by ASCII Corporation in 1986. The game is set within a castle containing 100 rooms, most of which contain one or more puzzles. The object of the game is to navigate through the Castle to rescue the Princess. The player can push certain objects throughout the game to accomplish progress. In some rooms, the prince can only advance to the next room by aligning cement blocks, Honey Jars, Candle Cakes, and Elevator Controlling Block. Additionally, the player's progress is blocked by many doors requiring a key of the same color to unlock, and a key is removed from the player's inventory upon use. The prince must be standing on a platform next to the door to be able to unlock it, and cannot simply jump or fall and press against the door. The player can navigate the castle with the help of a map that can be obtained early in the game. The map will provide the player with a matrix of 10x10 rooms and will highlight the room in which the princess is located and the rooms that he had visited. The player must also avoid touching enemies like Knights, Bishops, Wizards, Fire Spirits, Attack Cats and Phantom Flowers.»\n",
      "\n",
      "Question: How many storeys are in the castle that David Gregory inherited?\n",
      "\n",
      "Reasoning: Let's think step by step in order to 1. The passage mentions that David Gregory inherited a \"castle with three storeys.\" (Paragraph 4) 2. The passage also mentions that only two storeys still exist in the castle. (Paragraph 5) 3. Therefore, there are three storeys in the castle, but only two of them still exist. Conclusion: There are three storeys in the castle that David Gregory inherited, but only two of them still exist.\n",
      "\n",
      "Answer:\u001b[32m The answer is 3.\n",
      "\n",
      "Reasoning:\n",
      "\n",
      "1. The passage states that David Gregory inherited a \"castle with three storeys.\" (Paragraph 4)\n",
      "2. However, the passage also mentions that only two storeys still exist in the castle. (Paragraph 5)\n",
      "3. Therefore, there are three storeys in the castle, but only two of them still exist.\n",
      "\n",
      "Conclusion: There are 3 storeys in the castle that David Gregory inherited, but only 2 of them still exist.\u001b[0m\n",
      "\n",
      "\n",
      "\n"
     ]
    }
   ],
   "source": [
    "llama2.inspect_history(n=3)"
   ]
  },
  {
   "cell_type": "code",
   "execution_count": 55,
   "id": "2405a942-54eb-4800-8175-b5694c035667",
   "metadata": {},
   "outputs": [],
   "source": [
    "# With compilation"
   ]
  },
  {
   "cell_type": "code",
   "execution_count": 56,
   "id": "a9a6f8a6-365a-4a12-943a-60339934e7fd",
   "metadata": {},
   "outputs": [],
   "source": [
    "def validate_context_and_answer_and_hops(example, pred, trace=None):\n",
    "    if not dspy.evaluate.answer_exact_match(example, pred): return False\n",
    "    if not dspy.evaluate.answer_passage_match(example, pred): return False\n",
    "\n",
    "    hops = [example.question] + [outputs.query for *_, outputs in trace if 'query' in outputs]\n",
    "\n",
    "    if max([len(h) for h in hops]) > 100: return False\n",
    "    if any(dspy.evaluate.answer_exact_match_str(hops[idx], hops[:idx], frac=0.8) for idx in range(2, len(hops))): return False\n",
    "\n",
    "    return True"
   ]
  },
  {
   "cell_type": "code",
   "execution_count": 57,
   "id": "f6add73e-9f61-4bfa-b32a-4ec4dafaa686",
   "metadata": {},
   "outputs": [
    {
     "name": "stderr",
     "output_type": "stream",
     "text": [
      "100%|██████████████████████████████████████████████████████████████████████████████████| 20/20 [40:51<00:00, 122.55s/it]"
     ]
    },
    {
     "name": "stdout",
     "output_type": "stream",
     "text": [
      "Bootstrapped 0 full traces after 20 examples in round 0.\n"
     ]
    },
    {
     "name": "stderr",
     "output_type": "stream",
     "text": [
      "\n"
     ]
    }
   ],
   "source": [
    "teleprompter = BootstrapFewShot(metric=validate_context_and_answer_and_hops)\n",
    "compiled_baleen = teleprompter.compile(SimplifiedBaleen(), teacher=SimplifiedBaleen(passages_per_hop=2), trainset=trainset)"
   ]
  },
  {
   "cell_type": "code",
   "execution_count": 58,
   "id": "dd0e7486-5c25-452e-bd0c-662ce24bbd31",
   "metadata": {},
   "outputs": [],
   "source": [
    "# Evaluating the Retrieval"
   ]
  },
  {
   "cell_type": "code",
   "execution_count": 59,
   "id": "268178d8-a26e-458f-b634-f830dec599f3",
   "metadata": {},
   "outputs": [],
   "source": [
    "uncompiled_baleen_retrieval_score = evaluate_on_hotpotqa(uncompiled_baleen, metric=gold_passages_retrieved, display=False)"
   ]
  },
  {
   "cell_type": "code",
   "execution_count": 60,
   "id": "828bc2a4-153e-42a4-a4ca-9e668eedd055",
   "metadata": {},
   "outputs": [
    {
     "name": "stderr",
     "output_type": "stream",
     "text": [
      "Average Metric: 7.0 / 30  (23.3):  60%|█████████████████████████████▍                   | 30/50 [58:16<30:47, 92.36s/it]"
     ]
    },
    {
     "name": "stdout",
     "output_type": "stream",
     "text": [
      "Error for example in dev set: \t\t HTTPConnectionPool(host='20.102.90.50', port=2017): Max retries exceeded with url: /wiki17_abstracts?query=Let%27s+search+for+information+on+the+space+missions+of+Ivan+Bella+and+Frank+De+Winne%2C+and+see+if+they+have+traveled+to+the+same+place.+We&k=3 (Caused by NewConnectionError('<urllib3.connection.HTTPConnection object at 0x7ff7413255a0>: Failed to establish a new connection: [Errno 113] No route to host'))\n"
     ]
    },
    {
     "name": "stderr",
     "output_type": "stream",
     "text": [
      "Average Metric: 10.0 / 50  (20.0): 100%|█████████████████████████████████████████████| 50/50 [1:35:59<00:00, 115.19s/it]"
     ]
    },
    {
     "name": "stdout",
     "output_type": "stream",
     "text": [
      "Average Metric: 10.0 / 50  (20.0%)\n"
     ]
    },
    {
     "name": "stderr",
     "output_type": "stream",
     "text": [
      "\n"
     ]
    },
    {
     "data": {
      "text/html": [
       "<style type=\"text/css\">\n",
       "#T_f236b th {\n",
       "  text-align: left;\n",
       "}\n",
       "#T_f236b td {\n",
       "  text-align: left;\n",
       "}\n",
       "#T_f236b_row0_col0, #T_f236b_row0_col1, #T_f236b_row0_col2, #T_f236b_row0_col3, #T_f236b_row0_col4, #T_f236b_row0_col5, #T_f236b_row0_col6, #T_f236b_row1_col0, #T_f236b_row1_col1, #T_f236b_row1_col2, #T_f236b_row1_col3, #T_f236b_row1_col4, #T_f236b_row1_col5, #T_f236b_row1_col6, #T_f236b_row2_col0, #T_f236b_row2_col1, #T_f236b_row2_col2, #T_f236b_row2_col3, #T_f236b_row2_col4, #T_f236b_row2_col5, #T_f236b_row2_col6, #T_f236b_row3_col0, #T_f236b_row3_col1, #T_f236b_row3_col2, #T_f236b_row3_col3, #T_f236b_row3_col4, #T_f236b_row3_col5, #T_f236b_row3_col6, #T_f236b_row4_col0, #T_f236b_row4_col1, #T_f236b_row4_col2, #T_f236b_row4_col3, #T_f236b_row4_col4, #T_f236b_row4_col5, #T_f236b_row4_col6 {\n",
       "  text-align: left;\n",
       "  white-space: pre-wrap;\n",
       "  word-wrap: break-word;\n",
       "  max-width: 400px;\n",
       "}\n",
       "</style>\n",
       "<table id=\"T_f236b\">\n",
       "  <thead>\n",
       "    <tr>\n",
       "      <th class=\"blank level0\" >&nbsp;</th>\n",
       "      <th id=\"T_f236b_level0_col0\" class=\"col_heading level0 col0\" >question</th>\n",
       "      <th id=\"T_f236b_level0_col1\" class=\"col_heading level0 col1\" >example_answer</th>\n",
       "      <th id=\"T_f236b_level0_col2\" class=\"col_heading level0 col2\" >gold_titles</th>\n",
       "      <th id=\"T_f236b_level0_col3\" class=\"col_heading level0 col3\" >context</th>\n",
       "      <th id=\"T_f236b_level0_col4\" class=\"col_heading level0 col4\" >pred_answer</th>\n",
       "      <th id=\"T_f236b_level0_col5\" class=\"col_heading level0 col5\" >gold_passages_retrieved</th>\n",
       "      <th id=\"T_f236b_level0_col6\" class=\"col_heading level0 col6\" >answer</th>\n",
       "    </tr>\n",
       "  </thead>\n",
       "  <tbody>\n",
       "    <tr>\n",
       "      <th id=\"T_f236b_level0_row0\" class=\"row_heading level0 row0\" >0</th>\n",
       "      <td id=\"T_f236b_row0_col0\" class=\"data row0 col0\" >Are both Cangzhou and Qionghai in the Hebei province of China?</td>\n",
       "      <td id=\"T_f236b_row0_col1\" class=\"data row0 col1\" >no</td>\n",
       "      <td id=\"T_f236b_row0_col2\" class=\"data row0 col2\" >{'Cangzhou', 'Qionghai'}</td>\n",
       "      <td id=\"T_f236b_row0_col3\" class=\"data row0 col3\" >['Qionghai | Qionghai () is one of the seven county-level cities of Hainan province, China. Although called a \"city\", Qionghai refers to a large land...</td>\n",
       "      <td id=\"T_f236b_row0_col4\" class=\"data row0 col4\" >Context: [1] «Qionghai | Qionghai () is one of the seven county-level cities of Hainan province, China. Although called a \"city\", Qionghai refers to a...</td>\n",
       "      <td id=\"T_f236b_row0_col5\" class=\"data row0 col5\" >✔️ [True]</td>\n",
       "      <td id=\"T_f236b_row0_col6\" class=\"data row0 col6\" >nan</td>\n",
       "    </tr>\n",
       "    <tr>\n",
       "      <th id=\"T_f236b_level0_row1\" class=\"row_heading level0 row1\" >1</th>\n",
       "      <td id=\"T_f236b_row1_col0\" class=\"data row1 col0\" >Who conducts the draft in which Marc-Andre Fleury was drafted to the Vegas Golden Knights for the 2017-18 season?</td>\n",
       "      <td id=\"T_f236b_row1_col1\" class=\"data row1 col1\" >National Hockey League</td>\n",
       "      <td id=\"T_f236b_row1_col2\" class=\"data row1 col2\" >{'2017 NHL Expansion Draft', '2017–18 Pittsburgh Penguins season'}</td>\n",
       "      <td id=\"T_f236b_row1_col3\" class=\"data row1 col3\" >['Who\\'s Who | Who\\'s Who (or \"Who is Who\") is the title of a number of reference publications, generally containing concise biographical information on a...</td>\n",
       "      <td id=\"T_f236b_row1_col4\" class=\"data row1 col4\" >The National Hockey League (NHL).</td>\n",
       "      <td id=\"T_f236b_row1_col5\" class=\"data row1 col5\" >False</td>\n",
       "      <td id=\"T_f236b_row1_col6\" class=\"data row1 col6\" >nan</td>\n",
       "    </tr>\n",
       "    <tr>\n",
       "      <th id=\"T_f236b_level0_row2\" class=\"row_heading level0 row2\" >2</th>\n",
       "      <td id=\"T_f236b_row2_col0\" class=\"data row2 col0\" >The Wings entered a new era, following the retirement of which Canadian retired professional ice hockey player and current general manager of the Tampa Bay...</td>\n",
       "      <td id=\"T_f236b_row2_col1\" class=\"data row2 col1\" >Steve Yzerman</td>\n",
       "      <td id=\"T_f236b_row2_col2\" class=\"data row2 col2\" >{'Steve Yzerman', '2006–07 Detroit Red Wings season'}</td>\n",
       "      <td id=\"T_f236b_row2_col3\" class=\"data row2 col3\" >['N/a | n/a or N/A is a common abbreviation in tables and lists for the phrase not applicable, not available, or no answer. It is...</td>\n",
       "      <td id=\"T_f236b_row2_col4\" class=\"data row2 col4\" >The answer is Steve Yzerman. Reasoning: 1. The passage mentions that the Wings entered a new era following the retirement of longtime captain Steve Yzerman...</td>\n",
       "      <td id=\"T_f236b_row2_col5\" class=\"data row2 col5\" >✔️ [True]</td>\n",
       "      <td id=\"T_f236b_row2_col6\" class=\"data row2 col6\" >nan</td>\n",
       "    </tr>\n",
       "    <tr>\n",
       "      <th id=\"T_f236b_level0_row3\" class=\"row_heading level0 row3\" >3</th>\n",
       "      <td id=\"T_f236b_row3_col0\" class=\"data row3 col0\" >What river is near the Crichton Collegiate Church?</td>\n",
       "      <td id=\"T_f236b_row3_col1\" class=\"data row3 col1\" >the River Tyne</td>\n",
       "      <td id=\"T_f236b_row3_col2\" class=\"data row3 col2\" >{'Crichton Collegiate Church', 'Crichton Castle'}</td>\n",
       "      <td id=\"T_f236b_row3_col3\" class=\"data row3 col3\" >['WS-Context | WS-Context is a web services specification developed by OASIS (organization). It is part of the WS-CAF suite. Its purpose is to provide a...</td>\n",
       "      <td id=\"T_f236b_row3_col4\" class=\"data row3 col4\" >The river near Crichton Collegiate Church is the River Tyne. Reasoning: Based on the clues provided in the text, we can infer that the river...</td>\n",
       "      <td id=\"T_f236b_row3_col5\" class=\"data row3 col5\" >✔️ [True]</td>\n",
       "      <td id=\"T_f236b_row3_col6\" class=\"data row3 col6\" >nan</td>\n",
       "    </tr>\n",
       "    <tr>\n",
       "      <th id=\"T_f236b_level0_row4\" class=\"row_heading level0 row4\" >4</th>\n",
       "      <td id=\"T_f236b_row4_col0\" class=\"data row4 col0\" >In the 10th Century A.D. Ealhswith had a son called Æthelweard by which English king?</td>\n",
       "      <td id=\"T_f236b_row4_col1\" class=\"data row4 col1\" >King Alfred the Great</td>\n",
       "      <td id=\"T_f236b_row4_col2\" class=\"data row4 col2\" >{'Ealhswith', 'Æthelweard (son of Alfred)'}</td>\n",
       "      <td id=\"T_f236b_row4_col3\" class=\"data row4 col3\" >['Alfred the Great | Alfred the Great (Old English: \"Ælfrēd\", \"Ælfrǣd\" , \"elf counsel\" or \"wise elf\"; 849 – 26 October 899) was King of...</td>\n",
       "      <td id=\"T_f236b_row4_col4\" class=\"data row4 col4\" >The answer is: Alfred the Great. Reasoning: * According to the provided information, Ealhswith was the wife of Alfred the Great and the mother of...</td>\n",
       "      <td id=\"T_f236b_row4_col5\" class=\"data row4 col5\" >False</td>\n",
       "      <td id=\"T_f236b_row4_col6\" class=\"data row4 col6\" >nan</td>\n",
       "    </tr>\n",
       "  </tbody>\n",
       "</table>\n"
      ],
      "text/plain": [
       "<pandas.io.formats.style.Styler at 0x7ff741f6d360>"
      ]
     },
     "metadata": {},
     "output_type": "display_data"
    },
    {
     "data": {
      "text/html": [
       "\n",
       "                <div style='\n",
       "                    text-align: center; \n",
       "                    font-size: 16px; \n",
       "                    font-weight: bold; \n",
       "                    color: #555; \n",
       "                    margin: 10px 0;'>\n",
       "                    ... 45 more rows not displayed ...\n",
       "                </div>\n",
       "                "
      ],
      "text/plain": [
       "<IPython.core.display.HTML object>"
      ]
     },
     "metadata": {},
     "output_type": "display_data"
    }
   ],
   "source": [
    "compiled_baleen_retrieval_score = evaluate_on_hotpotqa(compiled_baleen, metric=gold_passages_retrieved)"
   ]
  },
  {
   "cell_type": "code",
   "execution_count": 61,
   "id": "70508911-0445-4686-b554-45f83fcf7c3a",
   "metadata": {},
   "outputs": [
    {
     "name": "stdout",
     "output_type": "stream",
     "text": [
      "## Retrieval Score for RAG: 26.0\n",
      "## Retrieval Score for uncompiled Baleen: 24.0\n",
      "## Retrieval Score for compiled Baleen: 20.0\n"
     ]
    }
   ],
   "source": [
    "print(f\"## Retrieval Score for RAG: {compiled_rag_retrieval_score}\")  # note that for RAG, compilation has no effect on the retrieval step\n",
    "print(f\"## Retrieval Score for uncompiled Baleen: {uncompiled_baleen_retrieval_score}\")\n",
    "print(f\"## Retrieval Score for compiled Baleen: {compiled_baleen_retrieval_score}\")"
   ]
  },
  {
   "cell_type": "code",
   "execution_count": 63,
   "id": "b99ba858-8ae2-4077-a7e2-fafd351cff26",
   "metadata": {},
   "outputs": [
    {
     "name": "stdout",
     "output_type": "stream",
     "text": [
      "\n",
      "\n",
      "\n",
      "\n",
      "Write a simple search query that will help answer a complex question.\n",
      "\n",
      "---\n",
      "\n",
      "Follow the following format.\n",
      "\n",
      "Context: may contain relevant facts\n",
      "\n",
      "Question: ${question}\n",
      "\n",
      "Reasoning: Let's think step by step in order to ${produce the query}. We ...\n",
      "\n",
      "Query: ${query}\n",
      "\n",
      "---\n",
      "\n",
      "Context:\n",
      "[1] «WS-Context | WS-Context is a web services specification developed by OASIS (organization). It is part of the WS-CAF suite. Its purpose is to provide a means to reference a shared context, which relates a set of interactions between web services (termed an activity). This context provides details of the application-specific execution environment for these services, and is typically included in the header of SOAP message. Contexts may be passed by value, or by reference, in which case they are retrieved using a Context Manager service. A Context Service is described, which allows management of activities by means of the begin and complete operations, which create and destroy the context respectively.»\n",
      "[2] «Context (archaeology) | In archaeology, context is used as a technical term referring to the remains of an individual stratigraphic event. Contexts, therefore, are events in time which have been preserved in the archaeological record. The cutting of a pit or ditch in the past is a context, whilst the material filling it will be another. Multiple fills, seen as layers in archaeological section would mean multiple contexts. Structural features, natural deposits and inhumations are also contexts. By separating a site into these basic, discrete units, archaeologists are able to create a chronology for activity on a site and describe and interpret it. Artifacts in the main are not treated as contexts but belonging of them. Contexts can be referred to positive or negative depending on whether their formation added or removed material from the archaeological record. Negative contexts are cuts. It can not be stressed too strongly how fundamentally important the concept of context is in modern archaeological practice.»\n",
      "[3] «Context-aware services | Context-aware services is a computing technology which incorporates information about the current location of a mobile user to provide more relevant services to the user. An example of a context-aware service could be a real-time traffic update or even a live video feed of a planned route for a motor vehicle user. Context can refer to real-world characteristics, such as temperature, time or location. This information can be updated by the user (manually) or from communication with other devices and applications or sensors on the mobile device.»\n",
      "\n",
      "Question: How many storeys are in the castle that David Gregory inherited?\n",
      "\n",
      "Reasoning: Let's think step by step in order to\u001b[32m Context: may contain relevant facts\n",
      "\n",
      "Question: How many storeys are in the castle that David Gregory inherited?\n",
      "\n",
      "Reasoning: To find out the number of storeys in the castle that David Gregory inherited, we need to consider the context of the question. Context refers to the circumstances or environment in which something exists or takes place. In this case, we need to know more about the castle and its layout to determine the number of storeys.\n",
      "\n",
      "Let's think step by step:\n",
      "\n",
      "1. What is the definition of a storey? A storey is a level or floor in a building.\n",
      "2. How do we know the number of storeys in a building? We can count the number of\u001b[0m\n",
      "\n",
      "\n",
      "\n",
      "\n",
      "\n",
      "\n",
      "\n",
      "Write a simple search query that will help answer a complex question.\n",
      "\n",
      "---\n",
      "\n",
      "Follow the following format.\n",
      "\n",
      "Context: may contain relevant facts\n",
      "\n",
      "Question: ${question}\n",
      "\n",
      "Reasoning: Let's think step by step in order to ${produce the query}. We ...\n",
      "\n",
      "Query: ${query}\n",
      "\n",
      "---\n",
      "\n",
      "Context:\n",
      "[1] «WS-Context | WS-Context is a web services specification developed by OASIS (organization). It is part of the WS-CAF suite. Its purpose is to provide a means to reference a shared context, which relates a set of interactions between web services (termed an activity). This context provides details of the application-specific execution environment for these services, and is typically included in the header of SOAP message. Contexts may be passed by value, or by reference, in which case they are retrieved using a Context Manager service. A Context Service is described, which allows management of activities by means of the begin and complete operations, which create and destroy the context respectively.»\n",
      "[2] «Context (archaeology) | In archaeology, context is used as a technical term referring to the remains of an individual stratigraphic event. Contexts, therefore, are events in time which have been preserved in the archaeological record. The cutting of a pit or ditch in the past is a context, whilst the material filling it will be another. Multiple fills, seen as layers in archaeological section would mean multiple contexts. Structural features, natural deposits and inhumations are also contexts. By separating a site into these basic, discrete units, archaeologists are able to create a chronology for activity on a site and describe and interpret it. Artifacts in the main are not treated as contexts but belonging of them. Contexts can be referred to positive or negative depending on whether their formation added or removed material from the archaeological record. Negative contexts are cuts. It can not be stressed too strongly how fundamentally important the concept of context is in modern archaeological practice.»\n",
      "[3] «Context-aware services | Context-aware services is a computing technology which incorporates information about the current location of a mobile user to provide more relevant services to the user. An example of a context-aware service could be a real-time traffic update or even a live video feed of a planned route for a motor vehicle user. Context can refer to real-world characteristics, such as temperature, time or location. This information can be updated by the user (manually) or from communication with other devices and applications or sensors on the mobile device.»\n",
      "\n",
      "Question: How many storeys are in the castle that David Gregory inherited?\n",
      "\n",
      "Reasoning: Let's think step by step in order to Context: may contain relevant facts Question: How many storeys are in the castle that David Gregory inherited? Reasoning: To find out the number of storeys in the castle that David Gregory inherited, we need to consider the context of the question. Context refers to the circumstances or environment in which something exists or takes place. In this case, we need to know more about the castle and its layout to determine the number of storeys. Let's think step by step: 1. What is the definition of a storey? A storey is a level or floor in a building. 2. How do we know the number of storeys in a building? We can count the number of\n",
      "\n",
      "Query:\u001b[32m Context: may contain relevant facts\n",
      "\n",
      "Question: How many storeys are in the castle that David Gregory inherited?\n",
      "\n",
      "Reasoning: Let's think step by step in order to produce the query. We need to consider the context of the question and determine what information is available to help us answer it.\n",
      "\n",
      "Context refers to the circumstances or environment in which something exists or takes place. In this case, we need to know more about the castle and its layout to determine the number of storeys. Let's think step by step:\n",
      "\n",
      "1. What is the definition of a storey? A storey is a level or floor in a building.\n",
      "2. How do we know the number of storeys in\u001b[0m\n",
      "\n",
      "\n",
      "\n",
      "\n",
      "\n",
      "\n",
      "\n",
      "Answer questions with short factoid answers.\n",
      "\n",
      "---\n",
      "\n",
      "Question: \"Everything Has Changed\" is a song from an album released under which record label ?\n",
      "Answer: Big Machine Records\n",
      "\n",
      "Question: On the coast of what ocean is the birthplace of Diogal Sakho?\n",
      "Answer: Atlantic\n",
      "\n",
      "Question: Samantha Cristoforetti and Mark Shuttleworth are both best known for being first in their field to go where?\n",
      "Answer: space\n",
      "\n",
      "Question: Which company distributed this 1977 American animated film produced by Walt Disney Productions for which Sherman Brothers wrote songs?\n",
      "Answer: Buena Vista Distribution\n",
      "\n",
      "Question: Which Pakistani cricket umpire who won 3 consecutive ICC umpire of the year awards in 2009, 2010, and 2011 will be in the ICC World Twenty20?\n",
      "Answer: Aleem Sarwar Dar\n",
      "\n",
      "Question: Which American actress who made their film debut in the 1995 teen drama \"Kids\" was the co-founder of Voto Latino?\n",
      "Answer: Rosario Dawson\n",
      "\n",
      "Question: This American guitarist best known for her work with the Iron Maidens is an ancestor of a composer who was known as what?\n",
      "Answer: The Waltz King\n",
      "\n",
      "Question: At My Window was released by which American singer-songwriter?\n",
      "Answer: John Townes Van Zandt\n",
      "\n",
      "Question: Who is older, Aleksandr Danilovich Aleksandrov or Anatoly Fomenko?\n",
      "Answer: Aleksandr Danilovich Aleksandrov\n",
      "\n",
      "Question: Which of these publications was most recently published, Who Put the Bomp or Self?\n",
      "Answer: Self\n",
      "\n",
      "Question: The Victorians - Their Story In Pictures is a documentary series written by an author born in what year?\n",
      "Answer: 1950\n",
      "\n",
      "Question: The Organisation that allows a community to influence their operation or use and to enjoy the benefits arisingwas founded in what year?\n",
      "Answer: 2010\n",
      "\n",
      "Question: Which magazine has published articles by Scott Shaw, Tae Kwon Do Times or Southwest Art?\n",
      "Answer: Tae Kwon Do Times\n",
      "\n",
      "Question: Who acted in the shot film The Shore and is also the youngest actress ever to play Ophelia in a Royal Shakespeare Company production of \"Hamlet.\" ?\n",
      "Answer: Kerry Condon\n",
      "\n",
      "Question: which American actor was Candace Kita guest starred with\n",
      "Answer: Bill Murray\n",
      "\n",
      "Question: What is the code name for the German offensive that started this Second World War engagement on the Eastern Front (a few hundred kilometers from Moscow) between Soviet and German forces, which included 102nd Infantry Division?\n",
      "Answer: Operation Citadel\n",
      "\n",
      "---\n",
      "\n",
      "Follow the following format.\n",
      "\n",
      "Context: may contain relevant facts\n",
      "\n",
      "Question: ${question}\n",
      "\n",
      "Reasoning: Let's think step by step in order to ${produce the answer}. We ...\n",
      "\n",
      "Answer: often between 1 and 5 words\n",
      "\n",
      "---\n",
      "\n",
      "Context:\n",
      "[1] «WS-Context | WS-Context is a web services specification developed by OASIS (organization). It is part of the WS-CAF suite. Its purpose is to provide a means to reference a shared context, which relates a set of interactions between web services (termed an activity). This context provides details of the application-specific execution environment for these services, and is typically included in the header of SOAP message. Contexts may be passed by value, or by reference, in which case they are retrieved using a Context Manager service. A Context Service is described, which allows management of activities by means of the begin and complete operations, which create and destroy the context respectively.»\n",
      "[2] «Context (archaeology) | In archaeology, context is used as a technical term referring to the remains of an individual stratigraphic event. Contexts, therefore, are events in time which have been preserved in the archaeological record. The cutting of a pit or ditch in the past is a context, whilst the material filling it will be another. Multiple fills, seen as layers in archaeological section would mean multiple contexts. Structural features, natural deposits and inhumations are also contexts. By separating a site into these basic, discrete units, archaeologists are able to create a chronology for activity on a site and describe and interpret it. Artifacts in the main are not treated as contexts but belonging of them. Contexts can be referred to positive or negative depending on whether their formation added or removed material from the archaeological record. Negative contexts are cuts. It can not be stressed too strongly how fundamentally important the concept of context is in modern archaeological practice.»\n",
      "[3] «Context-aware services | Context-aware services is a computing technology which incorporates information about the current location of a mobile user to provide more relevant services to the user. An example of a context-aware service could be a real-time traffic update or even a live video feed of a planned route for a motor vehicle user. Context can refer to real-world characteristics, such as temperature, time or location. This information can be updated by the user (manually) or from communication with other devices and applications or sensors on the mobile device.»\n",
      "\n",
      "Question: How many storeys are in the castle that David Gregory inherited?\n",
      "\n",
      "Reasoning: Let's think step by step in order to\u001b[32m Context: We are given information about a castle that David Gregory inherited. The castle has multiple storeys, but we don't know exactly how many.\n",
      "\n",
      "Question: How many storeys are in the castle that David Gregory inherited?\n",
      "\n",
      "Reasoning: To determine the number of storeys in the castle, we can analyze the context provided. The castle is described as having multiple storeys, which suggests that it has more than one level. However, we don't have any specific information about the number of storeys. Therefore, we cannot provide an exact answer to the question.\n",
      "\n",
      "Answer: Unknown\u001b[0m\n",
      "\n",
      "\n",
      "\n"
     ]
    }
   ],
   "source": [
    "compiled_baleen(\"How many storeys are in the castle that David Gregory inherited?\")\n",
    "llama2.inspect_history(n=3)"
   ]
  },
  {
   "cell_type": "code",
   "execution_count": null,
   "id": "2951ea4f-4fe8-49b4-b64b-f2c517c78f88",
   "metadata": {},
   "outputs": [],
   "source": []
  },
  {
   "cell_type": "code",
   "execution_count": null,
   "id": "70136b4b-6cba-4e83-aeba-1dc3519b266b",
   "metadata": {},
   "outputs": [],
   "source": []
  }
 ],
 "metadata": {
  "kernelspec": {
   "display_name": "Python 3 (ipykernel)",
   "language": "python",
   "name": "python3"
  },
  "language_info": {
   "codemirror_mode": {
    "name": "ipython",
    "version": 3
   },
   "file_extension": ".py",
   "mimetype": "text/x-python",
   "name": "python",
   "nbconvert_exporter": "python",
   "pygments_lexer": "ipython3",
   "version": "3.10.12"
  }
 },
 "nbformat": 4,
 "nbformat_minor": 5
}
